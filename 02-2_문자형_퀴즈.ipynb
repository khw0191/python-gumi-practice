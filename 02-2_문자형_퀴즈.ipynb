{
 "cells": [
  {
   "cell_type": "code",
   "execution_count": null,
   "metadata": {},
   "outputs": [],
   "source": [
    "1. 사용자로부터 문자를 입력받아 문자의 길이를 출력하는 프로그램을 만드세요."
   ]
  },
  {
   "cell_type": "code",
   "execution_count": 57,
   "metadata": {},
   "outputs": [
    {
     "name": "stdout",
     "output_type": "stream",
     "text": [
      "5\n"
     ]
    }
   ],
   "source": [
    "a=input(\"문자를 입력하세요\")\n",
    "print(len(a))"
   ]
  },
  {
   "cell_type": "markdown",
   "metadata": {},
   "source": [
    "2. 사용자로부터 문자를 입력받아 첫 글자와 마지막 글자를 출력하는 프로그램을 만드세요. "
   ]
  },
  {
   "cell_type": "code",
   "execution_count": 58,
   "metadata": {},
   "outputs": [
    {
     "name": "stdout",
     "output_type": "stream",
     "text": [
      "첫 번째 글자: d\n",
      "마지막 글자: y\n"
     ]
    }
   ],
   "source": [
    "a=input(\"문자를 입력하세요\")\n",
    "print(f\"첫 번째 글자: {a[0]}\\n마지막 글자: {a[-1]}\")"
   ]
  },
  {
   "cell_type": "markdown",
   "metadata": {},
   "source": [
    "3. 사용자가 입력한 반지름을 사용하여 원의 면적을 계사하는 프로그램을 만드세요(원의면적은: (3.14) * 반지름의 제곱)"
   ]
  },
  {
   "cell_type": "code",
   "execution_count": 61,
   "metadata": {},
   "outputs": [
    {
     "name": "stdout",
     "output_type": "stream",
     "text": [
      "452.16\n"
     ]
    }
   ],
   "source": [
    "a=int(input(\"반지름을 입력하세요\"))\n",
    "print(3.14 * (a ** 2))"
   ]
  },
  {
   "cell_type": "markdown",
   "metadata": {},
   "source": [
    "4. 3번의 숫자를 입력을 받아 평균을 구하는 프로그램을 만드세요."
   ]
  },
  {
   "cell_type": "code",
   "execution_count": 64,
   "metadata": {},
   "outputs": [
    {
     "name": "stdout",
     "output_type": "stream",
     "text": [
      "세 개의 수의 평균은: 10.0\n"
     ]
    }
   ],
   "source": [
    "a = int(input(\"첫 번째 수를 입력하세요\"))\n",
    "b = int(input(\"두 번째 수를 입력하세요\"))\n",
    "c = int(input(\"세 번째 수를 입력하세요\"))\n",
    "\n",
    "print(f\"세 개의 수의 평균은: {(a+b+c) / 3}\")"
   ]
  },
  {
   "cell_type": "markdown",
   "metadata": {},
   "source": [
    "5. 아래 문자열에서 문자열 슬라이싱을 사용하여 '금메달'을 추출해 주세요\n",
    "* a = \"“잠자는 경기장의 공주” 낮잠 자고 일어나 금메달 딴 女선수 화제\""
   ]
  },
  {
   "cell_type": "code",
   "execution_count": 65,
   "metadata": {},
   "outputs": [
    {
     "name": "stdout",
     "output_type": "stream",
     "text": [
      "금메달\n"
     ]
    }
   ],
   "source": [
    "a = \"“잠자는 경기장의 공주” 낮잠 자고 일어나 금메달 딴 女선수 화제\"\n",
    "print(a[24:27])\n"
   ]
  },
  {
   "cell_type": "markdown",
   "metadata": {},
   "source": [
    "6. 5번 문제에서의 문자열 중 '공주'를 '왕자'로 바꿔주세요"
   ]
  },
  {
   "cell_type": "code",
   "execution_count": 66,
   "metadata": {},
   "outputs": [
    {
     "name": "stdout",
     "output_type": "stream",
     "text": [
      "“잠자는 경기장의 왕자” 낮잠 자고 일어나 금메달 딴 女선수 화제\n",
      "“잠자는 경기장의 왕자” 낮잠 자고 일어나 금메달 딴 女선수 화제\n"
     ]
    }
   ],
   "source": [
    "a = \"“잠자는 경기장의 공주” 낮잠 자고 일어나 금메달 딴 女선수 화제\"\n",
    "\n",
    "print(a[0:10] + a[12:12] + \"왕자\" + a[12:])\n",
    "print(a.replace(\"공주\",\"왕자\"))"
   ]
  },
  {
   "cell_type": "markdown",
   "metadata": {},
   "source": [
    "7. a = \"himzei@gmail.com\" 에서 find() 함수를 이용하여 'himzei'만 추출하세요 "
   ]
  },
  {
   "cell_type": "code",
   "execution_count": 1,
   "metadata": {},
   "outputs": [
    {
     "name": "stdout",
     "output_type": "stream",
     "text": [
      "himzei\n"
     ]
    }
   ],
   "source": [
    "a = \"himzei@gmail.com\"\n",
    "num = (a.find(\"@\"))\n",
    "print(a[0: num])"
   ]
  },
  {
   "cell_type": "markdown",
   "metadata": {},
   "source": [
    "8. 이름, 취미, MBTI를 입력받아 변수에 담은 뒤, 출력하세요(3가지 문자열 출력방법 활용 ex)%s, format(), f\"\")"
   ]
  },
  {
   "cell_type": "code",
   "execution_count": 5,
   "metadata": {},
   "outputs": [
    {
     "name": "stdout",
     "output_type": "stream",
     "text": [
      "sorin dnji estj\n",
      "저의 이름은 sorin이고, 취미는 dnji이고, MBTI는 estj입니다.\n",
      "저의 이름은 sorin이고, 취미는 dnji이고, MBTI는 estj입니다.\n",
      "저의 이름은 sorin이고, 취미는 dnji이고, MBTI는 estj입니다.\n"
     ]
    }
   ],
   "source": [
    "name = input(\"이름을 입력하세요: \") \n",
    "hobby = input(\"취미를 입력하세요: \")\n",
    "MBTI = input(\"MBTI를 입력하세요: \")\n",
    "\n",
    "print(name, hobby, MBTI)\n",
    "\n",
    "print(\"저의 이름은 %s이고, 취미는 %s이고, MBTI는 %s입니다.\" % (name, hobby, MBTI))\n",
    "print(\"저의 이름은 {0}이고, 취미는 {1}이고, MBTI는 {2}입니다.\".format(name, hobby, MBTI))\n",
    "print(f\"저의 이름은 {name}이고, 취미는 {hobby}이고, MBTI는 {MBTI}입니다.\")\n",
    "\n"
   ]
  },
  {
   "cell_type": "code",
   "execution_count": null,
   "metadata": {},
   "outputs": [],
   "source": []
  }
 ],
 "metadata": {
  "kernelspec": {
   "display_name": "Python 3",
   "language": "python",
   "name": "python3"
  },
  "language_info": {
   "codemirror_mode": {
    "name": "ipython",
    "version": 3
   },
   "file_extension": ".py",
   "mimetype": "text/x-python",
   "name": "python",
   "nbconvert_exporter": "python",
   "pygments_lexer": "ipython3",
   "version": "3.12.4"
  }
 },
 "nbformat": 4,
 "nbformat_minor": 2
}
