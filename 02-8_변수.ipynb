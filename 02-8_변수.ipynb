{
 "cells": [
  {
   "cell_type": "markdown",
   "metadata": {},
   "source": [
    "### 변수는 어떻게 만들까?\n",
    "*변수_이름 = 변수에 저장할 값"
   ]
  },
  {
   "cell_type": "code",
   "execution_count": null,
   "metadata": {},
   "outputs": [],
   "source": [
    "a = 1\n",
    "# int a = 1 \n",
    "# C나 JAVA에서는 자료형의 타입을 선언\n",
    "\n",
    "# 파이썬은 자료형 타입을 선언하지 않는다\n",
    "\n",
    "b=\"python\"\n",
    "c=[1,2,3]\n",
    "\n",
    "temp_num = 1\n",
    "tempNum = 1\n",
    "TempNum = 1\n",
    "# 변수 '-' 빼기로 인식\n",
    "# temp-num = 1\n",
    "\n"
   ]
  }
 ],
 "metadata": {
  "language_info": {
   "name": "python"
  }
 },
 "nbformat": 4,
 "nbformat_minor": 2
}
