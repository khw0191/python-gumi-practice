{
 "cells": [
  {
   "cell_type": "markdown",
   "metadata": {},
   "source": [
    "퀴즈 1: 덧셈 함수 만들기\n",
    "문제: 두 개의 숫자를 입력받아 그 합을 반환하는 함수를 작성하세요.\n",
    "* 함수이름은 add_number"
   ]
  },
  {
   "cell_type": "code",
   "execution_count": 3,
   "metadata": {},
   "outputs": [
    {
     "name": "stdout",
     "output_type": "stream",
     "text": [
      "11\n"
     ]
    }
   ],
   "source": [
    "def add_number(a,b):\n",
    "    return a + b\n",
    "\n",
    "a = int(input(\"숫자를 입력하세요\"))\n",
    "b = int(input(\"숫자를 입력하세요\"))\n",
    "c = add_number(a,b)\n",
    "print(c)"
   ]
  },
  {
   "cell_type": "markdown",
   "metadata": {},
   "source": [
    "퀴즈 2: 짝수 확인 함수 만들기\n",
    "문제: 주어진 숫자가 짝수인지 홀수인지 판별하는 함수를 작성하세요.\n",
    "\n"
   ]
  },
  {
   "cell_type": "code",
   "execution_count": 8,
   "metadata": {},
   "outputs": [
    {
     "name": "stdout",
     "output_type": "stream",
     "text": [
      "짝수\n"
     ]
    }
   ],
   "source": [
    "a = int(input(\"숫자를 입력하세요\"))\n",
    "def number(a):\n",
    "    if a % 2 == 0 :\n",
    "        return \"짝수\"\n",
    "    else:\n",
    "        return \"홀수\"\n",
    "\n",
    "print(number(a))"
   ]
  },
  {
   "cell_type": "markdown",
   "metadata": {},
   "source": [
    "퀴즈 3: 리스트에서 최대값 찾기\n",
    "문제: 주어진 리스트에서 최대값을 찾는 함수를 작성하세요.\n",
    "* max() 함수를 사용하지 않고 직접 구현해보세요.\n"
   ]
  },
  {
   "cell_type": "code",
   "execution_count": 17,
   "metadata": {},
   "outputs": [
    {
     "name": "stdout",
     "output_type": "stream",
     "text": [
      "9\n"
     ]
    }
   ],
   "source": [
    "def smax(list_num):\n",
    "    mv = list_num[0]\n",
    "    for num in list_num:\n",
    "        if num > mv:\n",
    "            mv = num\n",
    "    return mv \n",
    "      \n",
    "result = smax([1,2,3,4,5,6,7,8,9])\n",
    "print(result)"
   ]
  },
  {
   "cell_type": "markdown",
   "metadata": {},
   "source": [
    "퀴즈 4: 구구단 출력하기\n",
    "문제: 주어진 숫자에 대해 구구단을 출력하는 함수를 작성하세요."
   ]
  },
  {
   "cell_type": "code",
   "execution_count": 20,
   "metadata": {},
   "outputs": [
    {
     "name": "stdout",
     "output_type": "stream",
     "text": [
      "3 * 1 = 3\n",
      "3 * 2 = 6\n",
      "3 * 3 = 9\n",
      "3 * 4 = 12\n",
      "3 * 5 = 15\n",
      "3 * 6 = 18\n",
      "3 * 7 = 21\n",
      "3 * 8 = 24\n",
      "3 * 9 = 27\n"
     ]
    }
   ],
   "source": [
    "def ggd(a):\n",
    "    for i in range(1,10):\n",
    "        print(f\"{a} * {i} = {a * i}\")\n",
    "   \n",
    "ggd(3)\n",
    "\n"
   ]
  },
  {
   "cell_type": "markdown",
   "metadata": {},
   "source": [
    "퀴즈 5. 날짜 2024-08-21 10:00 를 24년 8월 21일로 바꾸는 함수를 만들어 주세요 "
   ]
  },
  {
   "cell_type": "code",
   "execution_count": 26,
   "metadata": {},
   "outputs": [
    {
     "name": "stdout",
     "output_type": "stream",
     "text": [
      "24년 08월 21일\n"
     ]
    }
   ],
   "source": [
    "def date_format(input_date):\n",
    "    input_date = input_date.split(\"-\")\n",
    "    year = input_date[0][2:4]\n",
    "    month = input_date[1]\n",
    "    day = input_date[2][0:2]\n",
    "    return f\"{year}년 {month}월 {day}일\"\n",
    "\n",
    "\n",
    "result = date_format(\"2024-08-21 10:00\")\n",
    "print(result)"
   ]
  },
  {
   "cell_type": "markdown",
   "metadata": {},
   "source": [
    "퀴즈 6: 특정 단어 세기\n",
    "문제: 주어진 문장에서 특정 단어가 몇 번 나타나는지 세는 함수를 작성하세요.\n",
    "* 함수이름은 count_word\n",
    "* 함수는 두 개의 매개변수 sentence와 word를 받아야 합니다.\n",
    "\n"
   ]
  },
  {
   "cell_type": "code",
   "execution_count": 30,
   "metadata": {},
   "outputs": [
    {
     "name": "stdout",
     "output_type": "stream",
     "text": [
      "3\n"
     ]
    }
   ],
   "source": [
    "def count_word(sentence,word):\n",
    "    return sentence.count(word)\n",
    "    \n",
    "\n",
    "sentence = \"요즘 전기차 화재가 이따르고 있다. 이에 따른 전기차에 대한 불안감이 조성되고 있다. 전기차 화재는 왜 발생하는것일까\"\n",
    "word = \"전기차\"\n",
    "result = count_word(sentence, word)\n",
    "print(result)\n"
   ]
  },
  {
   "cell_type": "markdown",
   "metadata": {},
   "source": []
  }
 ],
 "metadata": {
  "kernelspec": {
   "display_name": "Python 3",
   "language": "python",
   "name": "python3"
  },
  "language_info": {
   "codemirror_mode": {
    "name": "ipython",
    "version": 3
   },
   "file_extension": ".py",
   "mimetype": "text/x-python",
   "name": "python",
   "nbconvert_exporter": "python",
   "pygments_lexer": "ipython3",
   "version": "3.12.4"
  }
 },
 "nbformat": 4,
 "nbformat_minor": 2
}
