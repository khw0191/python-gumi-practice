{
 "cells": [
  {
   "cell_type": "markdown",
   "metadata": {},
   "source": [
    "## 문자열은 어떻게 만들고 사용할까?"
   ]
  },
  {
   "cell_type": "code",
   "execution_count": 1,
   "metadata": {},
   "outputs": [
    {
     "name": "stdout",
     "output_type": "stream",
     "text": [
      "hello world\n"
     ]
    }
   ],
   "source": [
    "# 큰따옴표\n",
    "\n",
    "a = \"hello world\"\n",
    "print(a)"
   ]
  },
  {
   "cell_type": "code",
   "execution_count": 2,
   "metadata": {},
   "outputs": [
    {
     "name": "stdout",
     "output_type": "stream",
     "text": [
      "python is fun\n"
     ]
    }
   ],
   "source": [
    "# 작은따옴표\n",
    "\n",
    "b = 'python is fun'\n",
    "print(b)\n"
   ]
  },
  {
   "cell_type": "code",
   "execution_count": 3,
   "metadata": {},
   "outputs": [
    {
     "name": "stdout",
     "output_type": "stream",
     "text": [
      " \n",
      "Life is too short, You need python\n",
      "\n"
     ]
    }
   ],
   "source": [
    "# 큰따옴표 3개 연속으로 \n",
    "\n",
    "c = \"\"\" \n",
    "Life is too short, You need python\n",
    "\"\"\"\n",
    "\n",
    "print(c)"
   ]
  },
  {
   "cell_type": "code",
   "execution_count": 5,
   "metadata": {},
   "outputs": [
    {
     "name": "stdout",
     "output_type": "stream",
     "text": [
      " Life is too short, You need python\n"
     ]
    }
   ],
   "source": [
    "# 작은따옴표 3개 연속으로 \n",
    "\n",
    "d = ''' Life is too short, You need python'''\n",
    "\n",
    "print(d)\n"
   ]
  },
  {
   "cell_type": "code",
   "execution_count": 6,
   "metadata": {},
   "outputs": [
    {
     "name": "stdout",
     "output_type": "stream",
     "text": [
      "python's favorite food is perl\n"
     ]
    }
   ],
   "source": [
    "a = \"python's favorite food is perl\"\n",
    "\n",
    "print(a)"
   ]
  },
  {
   "cell_type": "code",
   "execution_count": 7,
   "metadata": {},
   "outputs": [
    {
     "name": "stdout",
     "output_type": "stream",
     "text": [
      "\"python is very easy.\" he says.\n"
     ]
    }
   ],
   "source": [
    "b = '\"python is very easy.\" he says.'\n",
    "print(b)"
   ]
  },
  {
   "cell_type": "code",
   "execution_count": 10,
   "metadata": {},
   "outputs": [
    {
     "name": "stdout",
     "output_type": "stream",
     "text": [
      "Phthon's favorite food is perl\n",
      "\"Python is very easy.\" he says.\n"
     ]
    }
   ],
   "source": [
    "food = 'Phthon\\'s favorite food is perl' \n",
    "print(food)\n",
    "say = \"\\\"Python is very easy.\\\" he says.\" \n",
    "print(say)"
   ]
  },
  {
   "cell_type": "code",
   "execution_count": 15,
   "metadata": {},
   "outputs": [
    {
     "name": "stdout",
     "output_type": "stream",
     "text": [
      " \n",
      "    Life is too short\n",
      "    You need python\n",
      "\n",
      " \n",
      "Life is too short\n",
      "You need python\n",
      "\n"
     ]
    }
   ],
   "source": [
    "# 작은따옴표3개, 큰따옴표3개\n",
    "\n",
    "multiline = ''' \n",
    "    Life is too short\n",
    "    You need python\n",
    "''' \n",
    "multiline2 = \"\"\" \n",
    "Life is too short\n",
    "You need python\n",
    "\"\"\" \n",
    "print(multiline)\n",
    "print(multiline2)\n"
   ]
  },
  {
   "cell_type": "markdown",
   "metadata": {},
   "source": [
    "### 문자열 연산하기 \n",
    ">문자열을 더하거나 곱할 수 있다."
   ]
  },
  {
   "cell_type": "code",
   "execution_count": 19,
   "metadata": {},
   "outputs": [
    {
     "data": {
      "text/plain": [
       "'python is fun'"
      ]
     },
     "execution_count": 19,
     "metadata": {},
     "output_type": "execute_result"
    }
   ],
   "source": [
    "# 문자열 더해서 연결하기 \n",
    "head = \"python\" \n",
    "tail = \" is fun\"\n",
    "head + tail "
   ]
  },
  {
   "cell_type": "code",
   "execution_count": 21,
   "metadata": {},
   "outputs": [
    {
     "name": "stdout",
     "output_type": "stream",
     "text": [
      "pythonpython\n"
     ]
    }
   ],
   "source": [
    "# 문자열 곱하기\n",
    "a = \"python\"\n",
    "print(a * 2)  "
   ]
  },
  {
   "cell_type": "code",
   "execution_count": 22,
   "metadata": {},
   "outputs": [
    {
     "name": "stdout",
     "output_type": "stream",
     "text": [
      "==================================================\n",
      "My program\n",
      "==================================================\n"
     ]
    }
   ],
   "source": [
    "print(\"=\" * 50)\n",
    "print(\"My program\")\n",
    "print(\"=\" * 50)"
   ]
  },
  {
   "cell_type": "code",
   "execution_count": 24,
   "metadata": {},
   "outputs": [
    {
     "name": "stdout",
     "output_type": "stream",
     "text": [
      "a:  34\n",
      "b:  7\n"
     ]
    }
   ],
   "source": [
    "# 문자열 길이 구하기 len()\n",
    "\n",
    "a = \"life is too short, You need python\" \n",
    "print(\"a: \", len(a))\n",
    "\n",
    "b = \"python \"\n",
    "print(\"b: \", len(b))\n"
   ]
  },
  {
   "cell_type": "markdown",
   "metadata": {},
   "source": [
    "### 문자열 인덱싱과 슬라이싱\n"
   ]
  },
  {
   "cell_type": "code",
   "execution_count": 28,
   "metadata": {},
   "outputs": [
    {
     "name": "stdout",
     "output_type": "stream",
     "text": [
      "34\n",
      "l\n",
      "i\n",
      "f\n",
      "e\n",
      "n\n",
      "o\n"
     ]
    }
   ],
   "source": [
    "a = \"life is too short, You need python\"\n",
    "print(len(a))\n",
    "\n",
    "print(a[0])\n",
    "print(a[1])\n",
    "print(a[2])\n",
    "print(a[3])\n",
    "\n",
    "print(a[-1])\n",
    "print(a[-2])"
   ]
  },
  {
   "cell_type": "code",
   "execution_count": 29,
   "metadata": {},
   "outputs": [
    {
     "name": "stdout",
     "output_type": "stream",
     "text": [
      "life\n"
     ]
    }
   ],
   "source": [
    "print(a[0] + a[1] + a[2] + a[3])"
   ]
  },
  {
   "cell_type": "code",
   "execution_count": 31,
   "metadata": {},
   "outputs": [
    {
     "data": {
      "text/plain": [
       "'life '"
      ]
     },
     "execution_count": 31,
     "metadata": {},
     "output_type": "execute_result"
    }
   ],
   "source": [
    "a[0:5]"
   ]
  },
  {
   "cell_type": "code",
   "execution_count": 32,
   "metadata": {},
   "outputs": [
    {
     "name": "stdout",
     "output_type": "stream",
     "text": [
      "year:  2024\n",
      "day:  0806\n",
      "weather:  Sunny\n"
     ]
    }
   ],
   "source": [
    "a = \"20240806Sunny\" \n",
    "\n",
    "year = a[0:4]\n",
    "day = a[4:8]\n",
    "weather = a[8:]\n",
    "\n",
    "print(\"year: \", year)\n",
    "print(\"day: \", day)\n",
    "print(\"weather: \", weather)\n"
   ]
  },
  {
   "cell_type": "code",
   "execution_count": 42,
   "metadata": {},
   "outputs": [
    {
     "name": "stdout",
     "output_type": "stream",
     "text": [
      "p\n",
      "thon\n",
      "py\n"
     ]
    }
   ],
   "source": [
    "# 문자열 바꾸기\n",
    "\n",
    "a = \"pithon\"\n",
    "print(a[:1])\n",
    "print(a[2:])\n",
    "\n",
    "print(a[:1] + \"y\") \n"
   ]
  },
  {
   "cell_type": "code",
   "execution_count": 39,
   "metadata": {},
   "outputs": [
    {
     "name": "stdout",
     "output_type": "stream",
     "text": [
      "i eat 3 apples\n"
     ]
    }
   ],
   "source": [
    "# 숫자 바로 대입\n",
    "\n",
    "a = 3\n",
    "print(\"i eat %d apples\" % a)"
   ]
  },
  {
   "cell_type": "code",
   "execution_count": 44,
   "metadata": {},
   "outputs": [
    {
     "name": "stdout",
     "output_type": "stream",
     "text": [
      "i eat five apples\n"
     ]
    }
   ],
   "source": [
    "# 문자열 바로 대입\n",
    "\n",
    "print(\"i eat %s apples\" % \"five\")"
   ]
  },
  {
   "cell_type": "code",
   "execution_count": 46,
   "metadata": {},
   "outputs": [
    {
     "name": "stdout",
     "output_type": "stream",
     "text": [
      "i eat 3 apples\n"
     ]
    }
   ],
   "source": [
    "# 숫자 값을 나타내는 변수로 대입\n",
    "\n",
    "number = 3\n",
    "print(\"i eat %d apples\" % number)"
   ]
  },
  {
   "cell_type": "code",
   "execution_count": 47,
   "metadata": {},
   "outputs": [
    {
     "name": "stdout",
     "output_type": "stream",
     "text": [
      " i ate 10 apples, so i was sick for three days\n"
     ]
    }
   ],
   "source": [
    "# 2개 이상의 값 넣기\n",
    "\n",
    "number = 10\n",
    "day = \"three\"\n",
    "\n",
    "print(\" i ate %d apples, so i was sick for %s days\" % (number, day))"
   ]
  },
  {
   "cell_type": "code",
   "execution_count": 49,
   "metadata": {},
   "outputs": [
    {
     "name": "stdout",
     "output_type": "stream",
     "text": [
      "error is 98%\n",
      "Error is 98%\n"
     ]
    }
   ],
   "source": [
    "a = 98\n",
    "print(\"error is %d%%\" % a)\n",
    "print(f\"Error is {a}%\")"
   ]
  },
  {
   "cell_type": "markdown",
   "metadata": {},
   "source": [
    "a=\"20240807Rainy\" 출력값을 \"2024년 8월 7일 오늘의 날씨는 Rainy 입니다.\"\n"
   ]
  },
  {
   "cell_type": "code",
   "execution_count": 2,
   "metadata": {},
   "outputs": [
    {
     "name": "stdout",
     "output_type": "stream",
     "text": [
      "2024년 8월 7일 오늘의 날씨는 Rainy 입니다.\n"
     ]
    }
   ],
   "source": [
    "a=\"20240807Rainy\"\n",
    "\n",
    "year = a[0:4] \n",
    "month = a[5:6] \n",
    "day = a[7:8] \n",
    "weather = a[8:]\n",
    "\n",
    "print(f\"{year}년 {month}월 {day}일 오늘의 날씨는 {weather} 입니다.\") "
   ]
  },
  {
   "cell_type": "markdown",
   "metadata": {},
   "source": [
    "### 포맷 코드와 숫자 함께 사용하기"
   ]
  },
  {
   "cell_type": "code",
   "execution_count": 9,
   "metadata": {},
   "outputs": [
    {
     "name": "stdout",
     "output_type": "stream",
     "text": [
      "안녕하세요 hi 저는 파이썬을 좋아해요 \n",
      "안녕하세요         hi 저는 파이썬을 좋아해요 \n",
      "안녕하세요 hi         저는 파이썬을 좋아해요 \n",
      "안녕하세요hi저는 파이썬을 좋아해요\n"
     ]
    }
   ],
   "source": [
    "# 정렬과 공백\n",
    "\n",
    "a = \"hi\"\n",
    "print(\"안녕하세요 %s 저는 파이썬을 좋아해요 \" % a)\n",
    "\n",
    "# 오른쪽 정렬\n",
    "print(\"안녕하세요 %10s 저는 파이썬을 좋아해요 \" % a)\n",
    "\n",
    "# 왼쪽 정렬\n",
    "print(\"안녕하세요 %-10s 저는 파이썬을 좋아해요 \" % a)\n",
    "\n",
    "print(\"안녕하세요\" + a + \"저는 파이썬을 좋아해요\")"
   ]
  },
  {
   "cell_type": "code",
   "execution_count": 12,
   "metadata": {},
   "outputs": [
    {
     "name": "stdout",
     "output_type": "stream",
     "text": [
      "소수점으로 3.421373\n",
      "소수점으로 3.4214\n",
      "소수점으로 3.4214\n"
     ]
    }
   ],
   "source": [
    "# 소수점 표현하기\n",
    "\n",
    "a = 3.42137324\n",
    "\n",
    "print(\"소수점으로 %f\" % a)\n",
    "print(\"소수점으로 %0.4f\" % a)\n",
    "print(\"소수점으로 %.4f\" % a)\n",
    "\n"
   ]
  },
  {
   "cell_type": "markdown",
   "metadata": {},
   "source": [
    "### format 함수를 사용한 포매팅"
   ]
  },
  {
   "cell_type": "code",
   "execution_count": 18,
   "metadata": {},
   "outputs": [
    {
     "name": "stdout",
     "output_type": "stream",
     "text": [
      "i eat 3 apples\n",
      "I eat five apples\n",
      "I eat 3 apples\n"
     ]
    }
   ],
   "source": [
    "# 숫자 바로 대입하기\n",
    "\n",
    "print(\"i eat {0} apples\".format(3))\n",
    "\n",
    "# 문자열 바로 대입\n",
    "\n",
    "print(\"I eat {0} apples\".format(\"five\"))\n",
    "\n",
    "# 숫자 값을 변수로 대입\n",
    "\n",
    "number = 3\n",
    "print(\"I eat {0} apples\".format(number))"
   ]
  },
  {
   "cell_type": "code",
   "execution_count": 23,
   "metadata": {},
   "outputs": [
    {
     "name": "stdout",
     "output_type": "stream",
     "text": [
      "I ate 10 apples. so I was sick for three days\n",
      "I ate 10 apples. so I was sick for 3 days\n",
      "I ate 10 apples. so I was sick for 3 days\n"
     ]
    }
   ],
   "source": [
    "# 2개 이상의 값을 넣기 \n",
    "\n",
    "number = 10\n",
    "day = \"three\"\n",
    "print(\"I ate {0} apples. so I was sick for {1} days\".format(number,day))\n",
    "\n",
    "# 이름으로 넣기\n",
    "\n",
    "print(\"I ate {number} apples. so I was sick for {day} days\".format(number=10,day=3))\n",
    "\n",
    "# 인덱스, 이름 혼용사용\n",
    "\n",
    "print(\"I ate {0} apples. so I was sick for {day} days\".format(number,day=3))"
   ]
  },
  {
   "cell_type": "code",
   "execution_count": 28,
   "metadata": {},
   "outputs": [
    {
     "name": "stdout",
     "output_type": "stream",
     "text": [
      "정렬 hi 입니다\n",
      "정렬 hi         입니다\n",
      "정렬         hi 입니다\n",
      "정렬     hi     입니다\n"
     ]
    }
   ],
   "source": [
    "# 왼쪽정렬\n",
    "\n",
    "print(\"정렬 {0} 입니다\".format(\"hi\"))\n",
    "print(\"정렬 {0:<10} 입니다\".format(\"hi\"))\n",
    "\n",
    "# 오른쪽정렬\n",
    "\n",
    "print(\"정렬 {0:>10} 입니다\".format(\"hi\"))\n",
    "\n",
    "# 중간정렬\n",
    "\n",
    "print(\"정렬 {0:^10} 입니다\".format(\"hi\"))\n",
    "\n"
   ]
  },
  {
   "cell_type": "code",
   "execution_count": 33,
   "metadata": {},
   "outputs": [
    {
     "name": "stdout",
     "output_type": "stream",
     "text": [
      "공백 hi\n",
      "공백 ====hi====\n",
      "공백 ****hi****\n",
      "공백 hi********\n",
      "공백 ********hi\n",
      "공백 !!!!!!!!hi\n"
     ]
    }
   ],
   "source": [
    "# 공백채우기\n",
    "\n",
    "print(\"공백 {0}\".format(\"hi\"))\n",
    "print(\"공백 {0:=^10}\".format(\"hi\"))\n",
    "print(\"공백 {0:*^10}\".format(\"hi\"))\n",
    "print(\"공백 {0:*<10}\".format(\"hi\"))\n",
    "print(\"공백 {0:*>10}\".format(\"hi\"))\n",
    "print(\"공백 {0:!>10}\".format(\"hi\"))\n"
   ]
  },
  {
   "cell_type": "code",
   "execution_count": 40,
   "metadata": {},
   "outputs": [
    {
     "name": "stdout",
     "output_type": "stream",
     "text": [
      "소수점자리표현: 3.42131234\n",
      "소수점자리표현: 3.4213\n",
      "소수점자리표현: 3.4213\n",
      "소수점자리표현:     3.4213\n",
      "소수점자리표현:   3.4213  \n",
      "소수점자리표현: $$3.4213$$\n",
      "소수점자리표현: ❤❤3.4213❤❤\n",
      "문자표현: {and}\n"
     ]
    }
   ],
   "source": [
    "# 소수점 표현하기 \n",
    "\n",
    "y = 3.42131234\n",
    "\n",
    "print(\"소수점자리표현: {0}\".format(y))\n",
    "print(\"소수점자리표현: {0:0.4f}\".format(y))\n",
    "print(\"소수점자리표현: {0:.4f}\".format(y))\n",
    "print(\"소수점자리표현: {0:10.4f}\".format(y))\n",
    "print(\"소수점자리표현: {0:^10.4f}\".format(y))\n",
    "print(\"소수점자리표현: {0:$^10.4f}\".format(y))\n",
    "print(\"소수점자리표현: {0:❤^10.4f}\".format(y))\n",
    "\n",
    "# {또는} 문자 표현\n",
    "\n",
    "print(\"문자표현: {{and}}\".format())"
   ]
  },
  {
   "cell_type": "markdown",
   "metadata": {},
   "source": [
    "### f 문자열 포매팅"
   ]
  },
  {
   "cell_type": "code",
   "execution_count": 42,
   "metadata": {},
   "outputs": [
    {
     "name": "stdout",
     "output_type": "stream",
     "text": [
      "나의 이름은 홍길동입니다. 나이는 30입니다.\n",
      "나의 이름은 홍길동입니다. 나이는 40입니다.\n"
     ]
    }
   ],
   "source": [
    "name = \"홍길동\" \n",
    "age = 30\n",
    "print(f'나의 이름은 {name}입니다. 나이는 {age}입니다.')\n",
    "print(f'나의 이름은 {name}입니다. 나이는 {age+10}입니다.')\n",
    "\n"
   ]
  },
  {
   "cell_type": "code",
   "execution_count": 46,
   "metadata": {},
   "outputs": [
    {
     "name": "stdout",
     "output_type": "stream",
     "text": [
      "나의 이름은 홍길동입니다. 나이는 30입니다.\n"
     ]
    }
   ],
   "source": [
    "d = {\"name\":\"홍길동\", \"age\": 30}\n",
    "print(f'나의 이름은 {d[\"name\"]}입니다. 나이는 {d[\"age\"]}입니다.')"
   ]
  },
  {
   "cell_type": "code",
   "execution_count": 51,
   "metadata": {},
   "outputs": [
    {
     "name": "stdout",
     "output_type": "stream",
     "text": [
      "f포매팅 정렬방법\n",
      "f포매팅 정렬방법 hi 입니다\n",
      "f포매팅 정렬방법 hi         입니다\n",
      "f포매팅 정렬방법         hi 입니다\n",
      "f포매팅 정렬방법     hi     입니다\n",
      "f포매팅 정렬방법 ----hi---- 입니다\n"
     ]
    }
   ],
   "source": [
    "a = \"hi\" \n",
    "\n",
    "print(\"f포매팅 정렬방법\")\n",
    "print(f\"f포매팅 정렬방법 {a} 입니다\")\n",
    "\n",
    "# 왼쪽정렬\n",
    "print(f\"f포매팅 정렬방법 {a:<10} 입니다\")\n",
    "\n",
    "# 오른쪽정렬\n",
    "print(f\"f포매팅 정렬방법 {a:>10} 입니다\")\n",
    "\n",
    "# 중앙정렬\n",
    "print(f\"f포매팅 정렬방법 {a:^10} 입니다\")\n",
    "\n",
    "# 공백 채우기\n",
    "print(f\"f포매팅 정렬방법 {a:-^10} 입니다\")"
   ]
  },
  {
   "cell_type": "code",
   "execution_count": 54,
   "metadata": {},
   "outputs": [
    {
     "name": "stdout",
     "output_type": "stream",
     "text": [
      "소수점표현방식: \n",
      "소수점표현방식: 3.42134234\n",
      "소수점표현방식: 3.4213\n"
     ]
    }
   ],
   "source": [
    "y = 3.42134234\n",
    "\n",
    "print(\"소수점표현방식: \")\n",
    "print(f\"소수점표현방식: {y}\")\n",
    "print(f\"소수점표현방식: {y:0.4f}\")"
   ]
  },
  {
   "cell_type": "markdown",
   "metadata": {},
   "source": [
    "### 문자열 관련 함수들"
   ]
  },
  {
   "cell_type": "code",
   "execution_count": 60,
   "metadata": {},
   "outputs": [
    {
     "name": "stdout",
     "output_type": "stream",
     "text": [
      "2\n",
      "5\n",
      "14\n",
      "찾지못했을때 반환하는 값:  -1\n",
      "index():  8\n"
     ]
    }
   ],
   "source": [
    "# 문자 개수 구하기 \n",
    "\n",
    "a= \"hobby\"\n",
    "print(a.count(\"b\"))\n",
    "print(len(a))\n",
    "\n",
    "# 위치 알려주기 find()\n",
    "b=\"Python is the best choice\"\n",
    "print(b.find(\"b\"))\n",
    "print(\"찾지못했을때 반환하는 값: \",b.find(\"K\"))\n",
    "\n",
    "# 위치 알려주기 index()\n",
    "c = \"Life is too short\"\n",
    "print(\"index(): \",c.index(\"t\"))"
   ]
  },
  {
   "cell_type": "code",
   "execution_count": 61,
   "metadata": {},
   "outputs": [
    {
     "data": {
      "text/plain": [
       "'a,b,c,d'"
      ]
     },
     "execution_count": 61,
     "metadata": {},
     "output_type": "execute_result"
    }
   ],
   "source": [
    "# 문자열 삽입 join()\n",
    "\n",
    "\",\".join(\"abcd\")"
   ]
  },
  {
   "cell_type": "code",
   "execution_count": 63,
   "metadata": {},
   "outputs": [
    {
     "name": "stdout",
     "output_type": "stream",
     "text": [
      "HI\n",
      "hello\n"
     ]
    }
   ],
   "source": [
    "# upper()\n",
    "\n",
    "a = \"hi\"\n",
    "print(a.upper())\n",
    "\n",
    "# lower()\n",
    "\n",
    "b = \"HELLO\"\n",
    "print(b.lower())\n"
   ]
  },
  {
   "cell_type": "code",
   "execution_count": 69,
   "metadata": {},
   "outputs": [
    {
     "name": "stdout",
     "output_type": "stream",
     "text": [
      "|     hi     |\n",
      "|hi     |\n",
      "|     hi|\n",
      "|hi|\n"
     ]
    }
   ],
   "source": [
    "a = \"     hi     \"\n",
    "print(f\"|{a}|\")\n",
    "\n",
    "# 왼쪽 공백지우기 lstrip()\n",
    "\n",
    "print(f\"|{a.lstrip()}|\")\n",
    "\n",
    "# 오른쪽 공백지우기 rstrip()\n",
    "\n",
    "print(f\"|{a.rstrip()}|\")\n",
    "\n",
    "#양쪽 공백지우기 strip()\n",
    "\n",
    "print(f\"|{a.strip()}|\")\n",
    "\n"
   ]
  },
  {
   "cell_type": "code",
   "execution_count": 72,
   "metadata": {},
   "outputs": [
    {
     "name": "stdout",
     "output_type": "stream",
     "text": [
      "Your leg is too short\n"
     ]
    }
   ],
   "source": [
    "# 문자열 바꾸기 replace\n",
    "\n",
    "a = \"Life is too short\"\n",
    "print(a.replace(\"Life\", \"Your leg\"))"
   ]
  },
  {
   "cell_type": "code",
   "execution_count": 78,
   "metadata": {},
   "outputs": [
    {
     "name": "stdout",
     "output_type": "stream",
     "text": [
      "['Life', 'is', 'too', 'short']\n",
      "['a', 'b', 'c', 'd']\n",
      "['사과,감자,수박,포도']\n",
      "['사과', '감자', '수박', '포도']\n"
     ]
    }
   ],
   "source": [
    "# 문자열 나누기 split() -> List[]\n",
    "\n",
    "a = \"Life is too short\"\n",
    "print(a.split())\n",
    "\n",
    "b = \"a:b:c:d\"\n",
    "print(b.split(':'))\n",
    "\n",
    "c = \"사과,감자,수박,포도\"\n",
    "print(c.split())\n",
    "print(c.split(\",\"))"
   ]
  },
  {
   "cell_type": "code",
   "execution_count": null,
   "metadata": {},
   "outputs": [],
   "source": []
  }
 ],
 "metadata": {
  "kernelspec": {
   "display_name": "Python 3",
   "language": "python",
   "name": "python3"
  },
  "language_info": {
   "codemirror_mode": {
    "name": "ipython",
    "version": 3
   },
   "file_extension": ".py",
   "mimetype": "text/x-python",
   "name": "python",
   "nbconvert_exporter": "python",
   "pygments_lexer": "ipython3",
   "version": "3.12.4"
  }
 },
 "nbformat": 4,
 "nbformat_minor": 2
}
